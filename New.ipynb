{
 "cells": [
  {
   "cell_type": "code",
   "execution_count": 1,
   "id": "d5578af3",
   "metadata": {},
   "outputs": [
    {
     "data": {
      "text/plain": [
       "(1, 2, 3, 4)"
      ]
     },
     "execution_count": 1,
     "metadata": {},
     "output_type": "execute_result"
    }
   ],
   "source": [
    "tup = 1,2,3,4\n",
    "tup"
   ]
  },
  {
   "cell_type": "code",
   "execution_count": 5,
   "id": "9a71b031",
   "metadata": {},
   "outputs": [
    {
     "name": "stdout",
     "output_type": "stream",
     "text": [
      "1\n",
      "2\n"
     ]
    },
    {
     "data": {
      "text/plain": [
       "[3, 4]"
      ]
     },
     "execution_count": 5,
     "metadata": {},
     "output_type": "execute_result"
    }
   ],
   "source": [
    "a,b,*rest = tup\n",
    "print(a)\n",
    "print(b)\n",
    "rest"
   ]
  },
  {
   "cell_type": "markdown",
   "id": "454a7e48",
   "metadata": {},
   "source": [
    "# for loop from textbook\n",
    "this program was given in the book"
   ]
  },
  {
   "cell_type": "code",
   "execution_count": 9,
   "id": "dedb5398",
   "metadata": {},
   "outputs": [
    {
     "data": {
      "text/plain": [
       "504"
      ]
     },
     "execution_count": 9,
     "metadata": {},
     "output_type": "execute_result"
    }
   ],
   "source": [
    "x=256\n",
    "total=0\n",
    "while x>0:\n",
    "    if total > 500:\n",
    "        break\n",
    "    total+=x\n",
    "    x=x//2\n",
    "total"
   ]
  },
  {
   "cell_type": "code",
   "execution_count": 10,
   "id": "32fa33ad",
   "metadata": {},
   "outputs": [
    {
     "name": "stdout",
     "output_type": "stream",
     "text": [
      "Enter size of list: 5\n",
      "Enter element: ayan\n",
      "Enter element: ayman\n",
      "Enter element: jun\n",
      "Enter element: kali\n",
      "Enter element: kala\n",
      "List is : ['ayan', 'ayman', 'jun', 'kali', 'kala']\n"
     ]
    }
   ],
   "source": [
    "siz = int(input(\"Enter size of list: \"))\n",
    "l=list()\n",
    "for x in range(0,siz):\n",
    "    ele = input(\"Enter element: \")\n",
    "    l.append(ele)\n",
    "print(f\"List is : {l}\")"
   ]
  },
  {
   "cell_type": "code",
   "execution_count": 13,
   "id": "e590ff80",
   "metadata": {},
   "outputs": [
    {
     "data": {
      "text/plain": [
       "['ayan', 'ayman', 'jun', 'kala', 'kali']"
      ]
     },
     "execution_count": 13,
     "metadata": {},
     "output_type": "execute_result"
    }
   ],
   "source": [
    "l.sort(key=ascii)\n",
    "l"
   ]
  },
  {
   "cell_type": "code",
   "execution_count": 14,
   "id": "4dfac7ec",
   "metadata": {},
   "outputs": [
    {
     "data": {
      "text/plain": [
       "['jun']"
      ]
     },
     "execution_count": 14,
     "metadata": {},
     "output_type": "execute_result"
    }
   ],
   "source": [
    "l[-3:-2]"
   ]
  },
  {
   "cell_type": "code",
   "execution_count": 19,
   "id": "4a0b6323",
   "metadata": {},
   "outputs": [
    {
     "data": {
      "text/plain": [
       "['ayan', 'ayman', 'jun', 'kala']"
      ]
     },
     "execution_count": 19,
     "metadata": {},
     "output_type": "execute_result"
    }
   ],
   "source": [
    "l[-5:4]"
   ]
  },
  {
   "cell_type": "code",
   "execution_count": 25,
   "id": "c00d5484",
   "metadata": {},
   "outputs": [
    {
     "data": {
      "text/plain": [
       "[90, 1]"
      ]
     },
     "execution_count": 25,
     "metadata": {},
     "output_type": "execute_result"
    }
   ],
   "source": [
    "a=[90]\n",
    "b=a\n",
    "a.append(1)\n",
    "b"
   ]
  },
  {
   "cell_type": "code",
   "execution_count": 27,
   "id": "4c10c7bf",
   "metadata": {},
   "outputs": [
    {
     "name": "stdout",
     "output_type": "stream",
     "text": [
      "Enter key of dict: youtube\n",
      "Enter Val of Dict: code\n"
     ]
    },
    {
     "data": {
      "text/plain": [
       "{'youtube': 'code'}"
      ]
     },
     "execution_count": 27,
     "metadata": {},
     "output_type": "execute_result"
    }
   ],
   "source": [
    "put=input(\"Enter key of dict: \")\n",
    "val = input(\"Enter Val of Dict: \")\n",
    "d1 = dict()\n",
    "d1[put] = val\n",
    "d1"
   ]
  },
  {
   "cell_type": "code",
   "execution_count": 28,
   "id": "2597aa7f",
   "metadata": {},
   "outputs": [
    {
     "data": {
      "text/plain": [
       "-1607349000689898045"
      ]
     },
     "execution_count": 28,
     "metadata": {},
     "output_type": "execute_result"
    }
   ],
   "source": [
    "hash(\"code\")"
   ]
  },
  {
   "cell_type": "code",
   "execution_count": 32,
   "id": "350b4af2",
   "metadata": {},
   "outputs": [
    {
     "data": {
      "text/plain": [
       "{'youtube': 'code', 'one to 10': [1, 2, 3, 4, 5, 6, 7, 8, 9, 10]}"
      ]
     },
     "execution_count": 32,
     "metadata": {},
     "output_type": "execute_result"
    }
   ],
   "source": [
    "d1[\"one to 10\"] = list(range(1,11))\n",
    "d1"
   ]
  },
  {
   "cell_type": "code",
   "execution_count": 50,
   "id": "5853ba16",
   "metadata": {},
   "outputs": [
    {
     "data": {
      "text/plain": [
       "[1, 2, 3, 4, 10]"
      ]
     },
     "execution_count": 50,
     "metadata": {},
     "output_type": "execute_result"
    }
   ],
   "source": [
    "l2 = [1,2,2,3,3,1,1,4,10,10]\n",
    "l3=[]\n",
    "for i in l2:\n",
    "    if i not in l3:\n",
    "        l3.append(i)\n",
    "l3"
   ]
  },
  {
   "cell_type": "code",
   "execution_count": 54,
   "id": "d72edfd0",
   "metadata": {},
   "outputs": [
    {
     "data": {
      "text/plain": [
       "{2, 3, 4}"
      ]
     },
     "execution_count": 54,
     "metadata": {},
     "output_type": "execute_result"
    }
   ],
   "source": [
    "tes = set(l3)\n",
    "tes.remove(10)\n",
    "tes.pop()\n",
    "tes"
   ]
  },
  {
   "cell_type": "code",
   "execution_count": 60,
   "id": "e75b75ce",
   "metadata": {},
   "outputs": [
    {
     "data": {
      "text/plain": [
       "{3, 4, 10}"
      ]
     },
     "execution_count": 60,
     "metadata": {},
     "output_type": "execute_result"
    }
   ],
   "source": [
    "a = {3,4,5,6,10}\n",
    "a.intersection(l3)"
   ]
  },
  {
   "cell_type": "code",
   "execution_count": 57,
   "id": "f1ba04a2",
   "metadata": {},
   "outputs": [
    {
     "data": {
      "text/plain": [
       "{1, 2, 5, 6}"
      ]
     },
     "execution_count": 57,
     "metadata": {},
     "output_type": "execute_result"
    }
   ],
   "source": [
    "a.symmetric_difference(l3)"
   ]
  },
  {
   "cell_type": "code",
   "execution_count": 59,
   "id": "a6fd23ab",
   "metadata": {},
   "outputs": [
    {
     "data": {
      "text/plain": [
       "False"
      ]
     },
     "execution_count": 59,
     "metadata": {},
     "output_type": "execute_result"
    }
   ],
   "source": [
    "b={6,5}\n",
    "a.issubset(b)"
   ]
  },
  {
   "cell_type": "code",
   "execution_count": 62,
   "id": "48535227",
   "metadata": {},
   "outputs": [
    {
     "data": {
      "text/plain": [
       "True"
      ]
     },
     "execution_count": 62,
     "metadata": {},
     "output_type": "execute_result"
    }
   ],
   "source": [
    "b=[3,4]\n",
    "a.issuperset(b)"
   ]
  },
  {
   "cell_type": "code",
   "execution_count": 67,
   "id": "22e9d890",
   "metadata": {},
   "outputs": [
    {
     "name": "stdout",
     "output_type": "stream",
     "text": [
      "0\n",
      "3\n",
      "6\n",
      "9\n",
      "12\n",
      "15\n",
      "18\n"
     ]
    }
   ],
   "source": [
    "index=0\n",
    "col = list(range(0,20,3))\n",
    "for index,val in enumerate(col):\n",
    "    print(val)\n",
    "    "
   ]
  },
  {
   "cell_type": "code",
   "execution_count": 2,
   "id": "8242827f",
   "metadata": {},
   "outputs": [
    {
     "name": "stdout",
     "output_type": "stream",
     "text": [
      "0 : sun , holi\n",
      "1 : Mon , work\n",
      "2 : tue , work\n",
      "3 : wed , work\n"
     ]
    }
   ],
   "source": [
    "one = [\"sun\", \"Mon\", \"tue\", \"wed\"]\n",
    "two = [\"holi\", \"work\", \"work\", \"work\"]\n",
    "index = 0\n",
    "for index, (a,b) in enumerate(zip(one,two)):\n",
    "    print(f\"{index} : {a} , {b}\")"
   ]
  },
  {
   "cell_type": "code",
   "execution_count": 7,
   "id": "be82448b",
   "metadata": {},
   "outputs": [
    {
     "name": "stdout",
     "output_type": "stream",
     "text": [
      "ele of one: \n",
      "(0, 'sun')\n",
      "ele of one: \n",
      "(1, 'Mon')\n",
      "ele of one: \n",
      "(2, 'tue')\n",
      "ele of one: \n",
      "(3, 'wed')\n"
     ]
    }
   ],
   "source": [
    "index = 0\n",
    "for i in enumerate(one):\n",
    "    print(\"ele of one: \")\n",
    "    print(i)"
   ]
  },
  {
   "cell_type": "code",
   "execution_count": null,
   "id": "d3f62d92",
   "metadata": {},
   "outputs": [],
   "source": []
  }
 ],
 "metadata": {
  "kernelspec": {
   "display_name": "Python 3 (ipykernel)",
   "language": "python",
   "name": "python3"
  },
  "language_info": {
   "codemirror_mode": {
    "name": "ipython",
    "version": 3
   },
   "file_extension": ".py",
   "mimetype": "text/x-python",
   "name": "python",
   "nbconvert_exporter": "python",
   "pygments_lexer": "ipython3",
   "version": "3.11.0"
  }
 },
 "nbformat": 4,
 "nbformat_minor": 5
}
